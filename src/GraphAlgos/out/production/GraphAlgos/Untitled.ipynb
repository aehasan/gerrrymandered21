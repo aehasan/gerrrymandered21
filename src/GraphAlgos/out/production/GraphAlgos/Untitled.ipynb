{
 "cells": [
  {
   "cell_type": "code",
   "execution_count": 44,
   "metadata": {},
   "outputs": [],
   "source": [
    "import pandas as pd"
   ]
  },
  {
   "cell_type": "code",
   "execution_count": 84,
   "metadata": {},
   "outputs": [],
   "source": [
    "df = pd.read_csv(\"./smallDataSetTest.csv\")\n"
   ]
  },
  {
   "cell_type": "code",
   "execution_count": 85,
   "metadata": {},
   "outputs": [
    {
     "data": {
      "text/html": [
       "<div>\n",
       "<style scoped>\n",
       "    .dataframe tbody tr th:only-of-type {\n",
       "        vertical-align: middle;\n",
       "    }\n",
       "\n",
       "    .dataframe tbody tr th {\n",
       "        vertical-align: top;\n",
       "    }\n",
       "\n",
       "    .dataframe thead th {\n",
       "        text-align: right;\n",
       "    }\n",
       "</style>\n",
       "<table border=\"1\" class=\"dataframe\">\n",
       "  <thead>\n",
       "    <tr style=\"text-align: right;\">\n",
       "      <th></th>\n",
       "      <th>COUNTYFP</th>\n",
       "      <th>NAME</th>\n",
       "      <th>G16PREDCLI</th>\n",
       "      <th>G16PRERTRU</th>\n",
       "      <th>G16PRELJOH</th>\n",
       "      <th>G16PREGSTE</th>\n",
       "      <th>G16PREOWRI</th>\n",
       "      <th>G16USSDDUC</th>\n",
       "      <th>G16USSRKIR</th>\n",
       "      <th>G16USSLMCM</th>\n",
       "      <th>G16USSGSUM</th>\n",
       "      <th>G16USSOWRI</th>\n",
       "      <th>G16COMDMEN</th>\n",
       "      <th>G16COMRMUN</th>\n",
       "      <th>G16COMLBAL</th>\n",
       "      <th>G16COMGCUR</th>\n",
       "      <th>NEIGHBORS</th>\n",
       "      <th>NEIGHBOR</th>\n",
       "    </tr>\n",
       "  </thead>\n",
       "  <tbody>\n",
       "    <tr>\n",
       "      <td>0</td>\n",
       "      <td>31</td>\n",
       "      <td>MAINE 2</td>\n",
       "      <td>400</td>\n",
       "      <td>194</td>\n",
       "      <td>8</td>\n",
       "      <td>14</td>\n",
       "      <td>3</td>\n",
       "      <td>381</td>\n",
       "      <td>178</td>\n",
       "      <td>21</td>\n",
       "      <td>9</td>\n",
       "      <td>0</td>\n",
       "      <td>342</td>\n",
       "      <td>187</td>\n",
       "      <td>28</td>\n",
       "      <td>15</td>\n",
       "      <td>MAINE 5,MAINE 78,MAINE 69,NORTHFIELD 1,NORTHFI...</td>\n",
       "      <td>MAINE 5 31,MAINE 78 31,MAINE 69 31,NORTHFIELD ...</td>\n",
       "    </tr>\n",
       "    <tr>\n",
       "      <td>1</td>\n",
       "      <td>31</td>\n",
       "      <td>MAINE 5</td>\n",
       "      <td>647</td>\n",
       "      <td>295</td>\n",
       "      <td>15</td>\n",
       "      <td>7</td>\n",
       "      <td>10</td>\n",
       "      <td>590</td>\n",
       "      <td>307</td>\n",
       "      <td>22</td>\n",
       "      <td>18</td>\n",
       "      <td>1</td>\n",
       "      <td>555</td>\n",
       "      <td>309</td>\n",
       "      <td>16</td>\n",
       "      <td>32</td>\n",
       "      <td>MAINE 78,MAINE 23,MAINE 2,NORTHFIELD 1,NORTHFI...</td>\n",
       "      <td>MAINE 78 31,MAINE 23 31,MAINE 2 31,NORTHFIELD ...</td>\n",
       "    </tr>\n",
       "    <tr>\n",
       "      <td>2</td>\n",
       "      <td>31</td>\n",
       "      <td>MAINE 31</td>\n",
       "      <td>399</td>\n",
       "      <td>259</td>\n",
       "      <td>19</td>\n",
       "      <td>9</td>\n",
       "      <td>3</td>\n",
       "      <td>359</td>\n",
       "      <td>286</td>\n",
       "      <td>18</td>\n",
       "      <td>9</td>\n",
       "      <td>2</td>\n",
       "      <td>312</td>\n",
       "      <td>308</td>\n",
       "      <td>12</td>\n",
       "      <td>20</td>\n",
       "      <td>MAINE 69,NORTHFIELD 38,MAINE 40,MAINE 74,MAINE...</td>\n",
       "      <td>MAINE 69 31,NORTHFIELD 38 31,MAINE 40 31,MAINE...</td>\n",
       "    </tr>\n",
       "    <tr>\n",
       "      <td>3</td>\n",
       "      <td>31</td>\n",
       "      <td>MAINE 23</td>\n",
       "      <td>409</td>\n",
       "      <td>253</td>\n",
       "      <td>21</td>\n",
       "      <td>17</td>\n",
       "      <td>6</td>\n",
       "      <td>374</td>\n",
       "      <td>263</td>\n",
       "      <td>18</td>\n",
       "      <td>26</td>\n",
       "      <td>0</td>\n",
       "      <td>345</td>\n",
       "      <td>276</td>\n",
       "      <td>26</td>\n",
       "      <td>23</td>\n",
       "      <td>MAINE 86,MAINE 5,NORTHFIELD 1,MAINE 92</td>\n",
       "      <td>MAINE 86 31,MAINE 5 31,NORTHFIELD 1 31,MAINE 9...</td>\n",
       "    </tr>\n",
       "    <tr>\n",
       "      <td>4</td>\n",
       "      <td>31</td>\n",
       "      <td>MAINE 44</td>\n",
       "      <td>256</td>\n",
       "      <td>156</td>\n",
       "      <td>25</td>\n",
       "      <td>5</td>\n",
       "      <td>8</td>\n",
       "      <td>214</td>\n",
       "      <td>214</td>\n",
       "      <td>10</td>\n",
       "      <td>11</td>\n",
       "      <td>0</td>\n",
       "      <td>178</td>\n",
       "      <td>235</td>\n",
       "      <td>14</td>\n",
       "      <td>12</td>\n",
       "      <td>MAINE 52,MAINE 74,MAINE 76,NILES 11,NORTHFIELD...</td>\n",
       "      <td>MAINE 52 31,MAINE 74 31,MAINE 76 31,NILES 11 3...</td>\n",
       "    </tr>\n",
       "  </tbody>\n",
       "</table>\n",
       "</div>"
      ],
      "text/plain": [
       "   COUNTYFP      NAME  G16PREDCLI  G16PRERTRU  G16PRELJOH  G16PREGSTE  \\\n",
       "0        31   MAINE 2         400         194           8          14   \n",
       "1        31   MAINE 5         647         295          15           7   \n",
       "2        31  MAINE 31         399         259          19           9   \n",
       "3        31  MAINE 23         409         253          21          17   \n",
       "4        31  MAINE 44         256         156          25           5   \n",
       "\n",
       "   G16PREOWRI  G16USSDDUC  G16USSRKIR  G16USSLMCM  G16USSGSUM  G16USSOWRI  \\\n",
       "0           3         381         178          21           9           0   \n",
       "1          10         590         307          22          18           1   \n",
       "2           3         359         286          18           9           2   \n",
       "3           6         374         263          18          26           0   \n",
       "4           8         214         214          10          11           0   \n",
       "\n",
       "   G16COMDMEN  G16COMRMUN  G16COMLBAL  G16COMGCUR  \\\n",
       "0         342         187          28          15   \n",
       "1         555         309          16          32   \n",
       "2         312         308          12          20   \n",
       "3         345         276          26          23   \n",
       "4         178         235          14          12   \n",
       "\n",
       "                                           NEIGHBORS  \\\n",
       "0  MAINE 5,MAINE 78,MAINE 69,NORTHFIELD 1,NORTHFI...   \n",
       "1  MAINE 78,MAINE 23,MAINE 2,NORTHFIELD 1,NORTHFI...   \n",
       "2  MAINE 69,NORTHFIELD 38,MAINE 40,MAINE 74,MAINE...   \n",
       "3             MAINE 86,MAINE 5,NORTHFIELD 1,MAINE 92   \n",
       "4  MAINE 52,MAINE 74,MAINE 76,NILES 11,NORTHFIELD...   \n",
       "\n",
       "                                            NEIGHBOR  \n",
       "0  MAINE 5 31,MAINE 78 31,MAINE 69 31,NORTHFIELD ...  \n",
       "1  MAINE 78 31,MAINE 23 31,MAINE 2 31,NORTHFIELD ...  \n",
       "2  MAINE 69 31,NORTHFIELD 38 31,MAINE 40 31,MAINE...  \n",
       "3  MAINE 86 31,MAINE 5 31,NORTHFIELD 1 31,MAINE 9...  \n",
       "4  MAINE 52 31,MAINE 74 31,MAINE 76 31,NILES 11 3...  "
      ]
     },
     "execution_count": 85,
     "metadata": {},
     "output_type": "execute_result"
    }
   ],
   "source": [
    "df.head()"
   ]
  },
  {
   "cell_type": "code",
   "execution_count": 87,
   "metadata": {},
   "outputs": [],
   "source": [
    "dffinal = df.loc[:, [\"NAME\", \"G16PREDCLI\", \"G16PRERTRU\", 'NEIGHBORS']]"
   ]
  },
  {
   "cell_type": "code",
   "execution_count": 88,
   "metadata": {},
   "outputs": [
    {
     "data": {
      "text/html": [
       "<div>\n",
       "<style scoped>\n",
       "    .dataframe tbody tr th:only-of-type {\n",
       "        vertical-align: middle;\n",
       "    }\n",
       "\n",
       "    .dataframe tbody tr th {\n",
       "        vertical-align: top;\n",
       "    }\n",
       "\n",
       "    .dataframe thead th {\n",
       "        text-align: right;\n",
       "    }\n",
       "</style>\n",
       "<table border=\"1\" class=\"dataframe\">\n",
       "  <thead>\n",
       "    <tr style=\"text-align: right;\">\n",
       "      <th></th>\n",
       "      <th>NAME</th>\n",
       "      <th>G16PREDCLI</th>\n",
       "      <th>G16PRERTRU</th>\n",
       "      <th>NEIGHBORS</th>\n",
       "    </tr>\n",
       "  </thead>\n",
       "  <tbody>\n",
       "    <tr>\n",
       "      <td>0</td>\n",
       "      <td>MAINE 2</td>\n",
       "      <td>400</td>\n",
       "      <td>194</td>\n",
       "      <td>MAINE 5,MAINE 78,MAINE 69,NORTHFIELD 1,NORTHFI...</td>\n",
       "    </tr>\n",
       "    <tr>\n",
       "      <td>1</td>\n",
       "      <td>MAINE 5</td>\n",
       "      <td>647</td>\n",
       "      <td>295</td>\n",
       "      <td>MAINE 78,MAINE 23,MAINE 2,NORTHFIELD 1,NORTHFI...</td>\n",
       "    </tr>\n",
       "    <tr>\n",
       "      <td>2</td>\n",
       "      <td>MAINE 31</td>\n",
       "      <td>399</td>\n",
       "      <td>259</td>\n",
       "      <td>MAINE 69,NORTHFIELD 38,MAINE 40,MAINE 74,MAINE...</td>\n",
       "    </tr>\n",
       "    <tr>\n",
       "      <td>3</td>\n",
       "      <td>MAINE 23</td>\n",
       "      <td>409</td>\n",
       "      <td>253</td>\n",
       "      <td>MAINE 86,MAINE 5,NORTHFIELD 1,MAINE 92</td>\n",
       "    </tr>\n",
       "    <tr>\n",
       "      <td>4</td>\n",
       "      <td>MAINE 44</td>\n",
       "      <td>256</td>\n",
       "      <td>156</td>\n",
       "      <td>MAINE 52,MAINE 74,MAINE 76,NILES 11,NORTHFIELD...</td>\n",
       "    </tr>\n",
       "    <tr>\n",
       "      <td>...</td>\n",
       "      <td>...</td>\n",
       "      <td>...</td>\n",
       "      <td>...</td>\n",
       "      <td>...</td>\n",
       "    </tr>\n",
       "    <tr>\n",
       "      <td>94</td>\n",
       "      <td>West Deerfield 398</td>\n",
       "      <td>813</td>\n",
       "      <td>189</td>\n",
       "      <td>West Deerfield 391,West Deerfield 394,West Dee...</td>\n",
       "    </tr>\n",
       "    <tr>\n",
       "      <td>95</td>\n",
       "      <td>West Deerfield 390</td>\n",
       "      <td>328</td>\n",
       "      <td>174</td>\n",
       "      <td>Vernon 264,West Deerfield 388,West Deerfield 3...</td>\n",
       "    </tr>\n",
       "    <tr>\n",
       "      <td>96</td>\n",
       "      <td>West Deerfield 399</td>\n",
       "      <td>930</td>\n",
       "      <td>140</td>\n",
       "      <td>West Deerfield 394,NORTHFIELD 3,NORTHFIELD 54,...</td>\n",
       "    </tr>\n",
       "    <tr>\n",
       "      <td>97</td>\n",
       "      <td>West Deerfield 400</td>\n",
       "      <td>756</td>\n",
       "      <td>195</td>\n",
       "      <td>West Deerfield 395,West Deerfield 394,NORTHFIE...</td>\n",
       "    </tr>\n",
       "    <tr>\n",
       "      <td>98</td>\n",
       "      <td>West Deerfield 401</td>\n",
       "      <td>602</td>\n",
       "      <td>165</td>\n",
       "      <td>Moraine 218,West Deerfield 400,NORTHFIELD 58,N...</td>\n",
       "    </tr>\n",
       "  </tbody>\n",
       "</table>\n",
       "<p>99 rows × 4 columns</p>\n",
       "</div>"
      ],
      "text/plain": [
       "                  NAME  G16PREDCLI  G16PRERTRU  \\\n",
       "0              MAINE 2         400         194   \n",
       "1              MAINE 5         647         295   \n",
       "2             MAINE 31         399         259   \n",
       "3             MAINE 23         409         253   \n",
       "4             MAINE 44         256         156   \n",
       "..                 ...         ...         ...   \n",
       "94  West Deerfield 398         813         189   \n",
       "95  West Deerfield 390         328         174   \n",
       "96  West Deerfield 399         930         140   \n",
       "97  West Deerfield 400         756         195   \n",
       "98  West Deerfield 401         602         165   \n",
       "\n",
       "                                            NEIGHBORS  \n",
       "0   MAINE 5,MAINE 78,MAINE 69,NORTHFIELD 1,NORTHFI...  \n",
       "1   MAINE 78,MAINE 23,MAINE 2,NORTHFIELD 1,NORTHFI...  \n",
       "2   MAINE 69,NORTHFIELD 38,MAINE 40,MAINE 74,MAINE...  \n",
       "3              MAINE 86,MAINE 5,NORTHFIELD 1,MAINE 92  \n",
       "4   MAINE 52,MAINE 74,MAINE 76,NILES 11,NORTHFIELD...  \n",
       "..                                                ...  \n",
       "94  West Deerfield 391,West Deerfield 394,West Dee...  \n",
       "95  Vernon 264,West Deerfield 388,West Deerfield 3...  \n",
       "96  West Deerfield 394,NORTHFIELD 3,NORTHFIELD 54,...  \n",
       "97  West Deerfield 395,West Deerfield 394,NORTHFIE...  \n",
       "98  Moraine 218,West Deerfield 400,NORTHFIELD 58,N...  \n",
       "\n",
       "[99 rows x 4 columns]"
      ]
     },
     "execution_count": 88,
     "metadata": {},
     "output_type": "execute_result"
    }
   ],
   "source": [
    "dffinal"
   ]
  },
  {
   "cell_type": "code",
   "execution_count": 89,
   "metadata": {},
   "outputs": [],
   "source": [
    "smaller = dffinal"
   ]
  },
  {
   "cell_type": "code",
   "execution_count": 90,
   "metadata": {},
   "outputs": [
    {
     "data": {
      "text/html": [
       "<div>\n",
       "<style scoped>\n",
       "    .dataframe tbody tr th:only-of-type {\n",
       "        vertical-align: middle;\n",
       "    }\n",
       "\n",
       "    .dataframe tbody tr th {\n",
       "        vertical-align: top;\n",
       "    }\n",
       "\n",
       "    .dataframe thead th {\n",
       "        text-align: right;\n",
       "    }\n",
       "</style>\n",
       "<table border=\"1\" class=\"dataframe\">\n",
       "  <thead>\n",
       "    <tr style=\"text-align: right;\">\n",
       "      <th></th>\n",
       "      <th>NAME</th>\n",
       "      <th>G16PREDCLI</th>\n",
       "      <th>G16PRERTRU</th>\n",
       "      <th>NEIGHBORS</th>\n",
       "    </tr>\n",
       "  </thead>\n",
       "  <tbody>\n",
       "    <tr>\n",
       "      <td>0</td>\n",
       "      <td>MAINE 2</td>\n",
       "      <td>400</td>\n",
       "      <td>194</td>\n",
       "      <td>MAINE 5,MAINE 78,MAINE 69,NORTHFIELD 1,NORTHFI...</td>\n",
       "    </tr>\n",
       "    <tr>\n",
       "      <td>1</td>\n",
       "      <td>MAINE 5</td>\n",
       "      <td>647</td>\n",
       "      <td>295</td>\n",
       "      <td>MAINE 78,MAINE 23,MAINE 2,NORTHFIELD 1,NORTHFI...</td>\n",
       "    </tr>\n",
       "    <tr>\n",
       "      <td>2</td>\n",
       "      <td>MAINE 31</td>\n",
       "      <td>399</td>\n",
       "      <td>259</td>\n",
       "      <td>MAINE 69,NORTHFIELD 38,MAINE 40,MAINE 74,MAINE...</td>\n",
       "    </tr>\n",
       "    <tr>\n",
       "      <td>3</td>\n",
       "      <td>MAINE 23</td>\n",
       "      <td>409</td>\n",
       "      <td>253</td>\n",
       "      <td>MAINE 86,MAINE 5,NORTHFIELD 1,MAINE 92</td>\n",
       "    </tr>\n",
       "    <tr>\n",
       "      <td>4</td>\n",
       "      <td>MAINE 44</td>\n",
       "      <td>256</td>\n",
       "      <td>156</td>\n",
       "      <td>MAINE 52,MAINE 74,MAINE 76,NILES 11,NORTHFIELD...</td>\n",
       "    </tr>\n",
       "    <tr>\n",
       "      <td>...</td>\n",
       "      <td>...</td>\n",
       "      <td>...</td>\n",
       "      <td>...</td>\n",
       "      <td>...</td>\n",
       "    </tr>\n",
       "    <tr>\n",
       "      <td>94</td>\n",
       "      <td>West Deerfield 398</td>\n",
       "      <td>813</td>\n",
       "      <td>189</td>\n",
       "      <td>West Deerfield 391,West Deerfield 394,West Dee...</td>\n",
       "    </tr>\n",
       "    <tr>\n",
       "      <td>95</td>\n",
       "      <td>West Deerfield 390</td>\n",
       "      <td>328</td>\n",
       "      <td>174</td>\n",
       "      <td>Vernon 264,West Deerfield 388,West Deerfield 3...</td>\n",
       "    </tr>\n",
       "    <tr>\n",
       "      <td>96</td>\n",
       "      <td>West Deerfield 399</td>\n",
       "      <td>930</td>\n",
       "      <td>140</td>\n",
       "      <td>West Deerfield 394,NORTHFIELD 3,NORTHFIELD 54,...</td>\n",
       "    </tr>\n",
       "    <tr>\n",
       "      <td>97</td>\n",
       "      <td>West Deerfield 400</td>\n",
       "      <td>756</td>\n",
       "      <td>195</td>\n",
       "      <td>West Deerfield 395,West Deerfield 394,NORTHFIE...</td>\n",
       "    </tr>\n",
       "    <tr>\n",
       "      <td>98</td>\n",
       "      <td>West Deerfield 401</td>\n",
       "      <td>602</td>\n",
       "      <td>165</td>\n",
       "      <td>Moraine 218,West Deerfield 400,NORTHFIELD 58,N...</td>\n",
       "    </tr>\n",
       "  </tbody>\n",
       "</table>\n",
       "<p>99 rows × 4 columns</p>\n",
       "</div>"
      ],
      "text/plain": [
       "                  NAME  G16PREDCLI  G16PRERTRU  \\\n",
       "0              MAINE 2         400         194   \n",
       "1              MAINE 5         647         295   \n",
       "2             MAINE 31         399         259   \n",
       "3             MAINE 23         409         253   \n",
       "4             MAINE 44         256         156   \n",
       "..                 ...         ...         ...   \n",
       "94  West Deerfield 398         813         189   \n",
       "95  West Deerfield 390         328         174   \n",
       "96  West Deerfield 399         930         140   \n",
       "97  West Deerfield 400         756         195   \n",
       "98  West Deerfield 401         602         165   \n",
       "\n",
       "                                            NEIGHBORS  \n",
       "0   MAINE 5,MAINE 78,MAINE 69,NORTHFIELD 1,NORTHFI...  \n",
       "1   MAINE 78,MAINE 23,MAINE 2,NORTHFIELD 1,NORTHFI...  \n",
       "2   MAINE 69,NORTHFIELD 38,MAINE 40,MAINE 74,MAINE...  \n",
       "3              MAINE 86,MAINE 5,NORTHFIELD 1,MAINE 92  \n",
       "4   MAINE 52,MAINE 74,MAINE 76,NILES 11,NORTHFIELD...  \n",
       "..                                                ...  \n",
       "94  West Deerfield 391,West Deerfield 394,West Dee...  \n",
       "95  Vernon 264,West Deerfield 388,West Deerfield 3...  \n",
       "96  West Deerfield 394,NORTHFIELD 3,NORTHFIELD 54,...  \n",
       "97  West Deerfield 395,West Deerfield 394,NORTHFIE...  \n",
       "98  Moraine 218,West Deerfield 400,NORTHFIELD 58,N...  \n",
       "\n",
       "[99 rows x 4 columns]"
      ]
     },
     "execution_count": 90,
     "metadata": {},
     "output_type": "execute_result"
    }
   ],
   "source": [
    "smaller"
   ]
  },
  {
   "cell_type": "code",
   "execution_count": 117,
   "metadata": {},
   "outputs": [],
   "source": [
    "f = set(smaller.NAME)"
   ]
  },
  {
   "cell_type": "code",
   "execution_count": 118,
   "metadata": {},
   "outputs": [
    {
     "data": {
      "text/plain": [
       "0     [MAINE 5, MAINE 69, NORTHFIELD 1, NORTHFIELD 4...\n",
       "1     [MAINE 23, MAINE 2, NORTHFIELD 1, NORTHFIELD 4...\n",
       "2     [MAINE 69, NORTHFIELD 38, MAINE 74, NORTHFIELD...\n",
       "3                     [MAINE 86, MAINE 5, NORTHFIELD 1]\n",
       "4     [MAINE 74, NILES 11, NORTHFIELD 21, NORTHFIELD...\n",
       "                            ...                        \n",
       "94    [West Deerfield 394, West Deerfield 390, NORTH...\n",
       "95    [West Deerfield 388, Vernon 287, Vernon 270, N...\n",
       "96    [NORTHFIELD 3, NORTHFIELD 54, West Deerfield 3...\n",
       "97    [West Deerfield 394, NORTHFIELD 3, West Deerfi...\n",
       "98    [Moraine 218, West Deerfield 400, NORTHFIELD 5...\n",
       "Name: NEIGHBORS, Length: 99, dtype: object"
      ]
     },
     "execution_count": 118,
     "metadata": {},
     "output_type": "execute_result"
    }
   ],
   "source": [
    "j = smaller[\"NEIGHBORS\"].str.split(\",\")\n",
    "j"
   ]
  },
  {
   "cell_type": "code",
   "execution_count": 121,
   "metadata": {},
   "outputs": [
    {
     "name": "stdout",
     "output_type": "stream",
     "text": [
      "MAINE 57\n",
      "['MAINE 23', 'MAINE 2', 'NORTHFIELD 1', 'NORTHFIELD 4']\n",
      "MAINE 6\n",
      "['WHEELING 11', 'NORTHFIELD 39', 'NORTHFIELD 33', 'MAINE 64', 'MAINE 23', 'NORTHFIELD 1']\n",
      "NEW TRIER 7\n",
      "['NEW TRIER 20', 'NEW TRIER 6', 'NORTHFIELD 8']\n",
      "NILES 59\n",
      "['NILES 11', 'NEW TRIER 13', 'NORTHFIELD 19', 'NORTHFIELD 6']\n",
      "WHEELING 16\n",
      "['NORTHFIELD 39', 'NORTHFIELD 27', 'WHEELING 77', 'WHEELING 80', 'WHEELING 85']\n",
      "WHEELING 43\n",
      "['WHEELING 76', 'NORTHFIELD 50', 'NORTHFIELD 27', 'WHEELING 77']\n",
      "Vernon 286\n",
      "['West Deerfield 390', 'NORTHFIELD 54', 'WHEELING 67']\n"
     ]
    }
   ],
   "source": [
    "def mine(x):\n",
    "    s = x\n",
    "    for vert in s:\n",
    "        if vert not in f:\n",
    "            print(vert)\n",
    "\n",
    "            s.remove(vert)\n",
    "            print(s)\n",
    "    return s\n",
    "\n",
    "cleaned = j.apply(mine)"
   ]
  },
  {
   "cell_type": "code",
   "execution_count": 122,
   "metadata": {},
   "outputs": [
    {
     "data": {
      "text/plain": [
       "0     [MAINE 5, MAINE 69, NORTHFIELD 1, NORTHFIELD 4...\n",
       "1       [MAINE 23, MAINE 2, NORTHFIELD 1, NORTHFIELD 4]\n",
       "2     [MAINE 69, NORTHFIELD 38, MAINE 74, NORTHFIELD...\n",
       "3                     [MAINE 86, MAINE 5, NORTHFIELD 1]\n",
       "4     [MAINE 74, NILES 11, NORTHFIELD 21, NORTHFIELD...\n",
       "                            ...                        \n",
       "94    [West Deerfield 390, NORTHFIELD 3, NORTHFIELD ...\n",
       "95    [Vernon 287, NORTHFIELD 54, West Deerfield 398...\n",
       "96    [NORTHFIELD 3, NORTHFIELD 54, West Deerfield 3...\n",
       "97    [NORTHFIELD 3, West Deerfield 399, West Deerfi...\n",
       "98    [Moraine 218, West Deerfield 400, NORTHFIELD 5...\n",
       "Name: NEIGHBORS, Length: 99, dtype: object"
      ]
     },
     "execution_count": 122,
     "metadata": {},
     "output_type": "execute_result"
    }
   ],
   "source": [
    "cleaned"
   ]
  },
  {
   "cell_type": "code",
   "execution_count": 135,
   "metadata": {},
   "outputs": [
    {
     "data": {
      "text/plain": [
       "True"
      ]
     },
     "execution_count": 135,
     "metadata": {},
     "output_type": "execute_result"
    }
   ],
   "source": [
    "\"MAINE 64\" not in f"
   ]
  },
  {
   "cell_type": "code",
   "execution_count": 136,
   "metadata": {},
   "outputs": [
    {
     "data": {
      "text/plain": [
       "['WHEELING 11',\n",
       " 'NORTHFIELD 39',\n",
       " 'NORTHFIELD 33',\n",
       " 'MAINE 64',\n",
       " 'MAINE 23',\n",
       " 'NORTHFIELD 1']"
      ]
     },
     "execution_count": 136,
     "metadata": {},
     "output_type": "execute_result"
    }
   ],
   "source": [
    "cleaned[7]"
   ]
  },
  {
   "cell_type": "code",
   "execution_count": 127,
   "metadata": {},
   "outputs": [],
   "source": [
    "smaller.loc[:,\"NEIGHBORS\"] = cleaned"
   ]
  },
  {
   "cell_type": "code",
   "execution_count": 128,
   "metadata": {},
   "outputs": [
    {
     "data": {
      "text/plain": [
       "['MAINE 5', 'MAINE 69', 'NORTHFIELD 1', 'NORTHFIELD 4', 'NORTHFIELD 38']"
      ]
     },
     "execution_count": 128,
     "metadata": {},
     "output_type": "execute_result"
    }
   ],
   "source": [
    "smaller.iloc[0, 3]"
   ]
  },
  {
   "cell_type": "code",
   "execution_count": 129,
   "metadata": {},
   "outputs": [
    {
     "data": {
      "text/html": [
       "<div>\n",
       "<style scoped>\n",
       "    .dataframe tbody tr th:only-of-type {\n",
       "        vertical-align: middle;\n",
       "    }\n",
       "\n",
       "    .dataframe tbody tr th {\n",
       "        vertical-align: top;\n",
       "    }\n",
       "\n",
       "    .dataframe thead th {\n",
       "        text-align: right;\n",
       "    }\n",
       "</style>\n",
       "<table border=\"1\" class=\"dataframe\">\n",
       "  <thead>\n",
       "    <tr style=\"text-align: right;\">\n",
       "      <th></th>\n",
       "      <th>NAME</th>\n",
       "      <th>G16PREDCLI</th>\n",
       "      <th>G16PRERTRU</th>\n",
       "      <th>NEIGHBORS</th>\n",
       "    </tr>\n",
       "  </thead>\n",
       "  <tbody>\n",
       "    <tr>\n",
       "      <td>0</td>\n",
       "      <td>MAINE 2</td>\n",
       "      <td>400</td>\n",
       "      <td>194</td>\n",
       "      <td>MAINE 5,MAINE 69,NORTHFIELD 1,NORTHFIELD 4,NOR...</td>\n",
       "    </tr>\n",
       "    <tr>\n",
       "      <td>1</td>\n",
       "      <td>MAINE 5</td>\n",
       "      <td>647</td>\n",
       "      <td>295</td>\n",
       "      <td>MAINE 23,MAINE 2,NORTHFIELD 1,NORTHFIELD 4</td>\n",
       "    </tr>\n",
       "    <tr>\n",
       "      <td>2</td>\n",
       "      <td>MAINE 31</td>\n",
       "      <td>399</td>\n",
       "      <td>259</td>\n",
       "      <td>MAINE 69,NORTHFIELD 38,MAINE 74,NORTHFIELD 21</td>\n",
       "    </tr>\n",
       "    <tr>\n",
       "      <td>3</td>\n",
       "      <td>MAINE 23</td>\n",
       "      <td>409</td>\n",
       "      <td>253</td>\n",
       "      <td>MAINE 86,MAINE 5,NORTHFIELD 1</td>\n",
       "    </tr>\n",
       "    <tr>\n",
       "      <td>4</td>\n",
       "      <td>MAINE 44</td>\n",
       "      <td>256</td>\n",
       "      <td>156</td>\n",
       "      <td>MAINE 74,NILES 11,NORTHFIELD 21,NORTHFIELD 24</td>\n",
       "    </tr>\n",
       "    <tr>\n",
       "      <td>...</td>\n",
       "      <td>...</td>\n",
       "      <td>...</td>\n",
       "      <td>...</td>\n",
       "      <td>...</td>\n",
       "    </tr>\n",
       "    <tr>\n",
       "      <td>94</td>\n",
       "      <td>West Deerfield 398</td>\n",
       "      <td>813</td>\n",
       "      <td>189</td>\n",
       "      <td>West Deerfield 390,NORTHFIELD 3,NORTHFIELD 54,...</td>\n",
       "    </tr>\n",
       "    <tr>\n",
       "      <td>95</td>\n",
       "      <td>West Deerfield 390</td>\n",
       "      <td>328</td>\n",
       "      <td>174</td>\n",
       "      <td>Vernon 287,NORTHFIELD 54,West Deerfield 398,WH...</td>\n",
       "    </tr>\n",
       "    <tr>\n",
       "      <td>96</td>\n",
       "      <td>West Deerfield 399</td>\n",
       "      <td>930</td>\n",
       "      <td>140</td>\n",
       "      <td>NORTHFIELD 3,NORTHFIELD 54,West Deerfield 398,...</td>\n",
       "    </tr>\n",
       "    <tr>\n",
       "      <td>97</td>\n",
       "      <td>West Deerfield 400</td>\n",
       "      <td>756</td>\n",
       "      <td>195</td>\n",
       "      <td>NORTHFIELD 3,West Deerfield 399,West Deerfield...</td>\n",
       "    </tr>\n",
       "    <tr>\n",
       "      <td>98</td>\n",
       "      <td>West Deerfield 401</td>\n",
       "      <td>602</td>\n",
       "      <td>165</td>\n",
       "      <td>Moraine 218,West Deerfield 400,NORTHFIELD 58,N...</td>\n",
       "    </tr>\n",
       "  </tbody>\n",
       "</table>\n",
       "<p>99 rows × 4 columns</p>\n",
       "</div>"
      ],
      "text/plain": [
       "                  NAME  G16PREDCLI  G16PRERTRU  \\\n",
       "0              MAINE 2         400         194   \n",
       "1              MAINE 5         647         295   \n",
       "2             MAINE 31         399         259   \n",
       "3             MAINE 23         409         253   \n",
       "4             MAINE 44         256         156   \n",
       "..                 ...         ...         ...   \n",
       "94  West Deerfield 398         813         189   \n",
       "95  West Deerfield 390         328         174   \n",
       "96  West Deerfield 399         930         140   \n",
       "97  West Deerfield 400         756         195   \n",
       "98  West Deerfield 401         602         165   \n",
       "\n",
       "                                            NEIGHBORS  \n",
       "0   MAINE 5,MAINE 69,NORTHFIELD 1,NORTHFIELD 4,NOR...  \n",
       "1          MAINE 23,MAINE 2,NORTHFIELD 1,NORTHFIELD 4  \n",
       "2       MAINE 69,NORTHFIELD 38,MAINE 74,NORTHFIELD 21  \n",
       "3                       MAINE 86,MAINE 5,NORTHFIELD 1  \n",
       "4       MAINE 74,NILES 11,NORTHFIELD 21,NORTHFIELD 24  \n",
       "..                                                ...  \n",
       "94  West Deerfield 390,NORTHFIELD 3,NORTHFIELD 54,...  \n",
       "95  Vernon 287,NORTHFIELD 54,West Deerfield 398,WH...  \n",
       "96  NORTHFIELD 3,NORTHFIELD 54,West Deerfield 398,...  \n",
       "97  NORTHFIELD 3,West Deerfield 399,West Deerfield...  \n",
       "98  Moraine 218,West Deerfield 400,NORTHFIELD 58,N...  \n",
       "\n",
       "[99 rows x 4 columns]"
      ]
     },
     "execution_count": 129,
     "metadata": {},
     "output_type": "execute_result"
    }
   ],
   "source": [
    "def converttostr(input_seq, seperator):\n",
    "   # Join all the strings in list\n",
    "   final_str = seperator.join(input_seq)\n",
    "   return final_str\n",
    "finalIThink = smaller\n",
    "finalIThink[\"NEIGHBORS\"] = finalIThink[\"NEIGHBORS\"].apply(lambda x: converttostr(x, \",\"))\n",
    "finalIThink"
   ]
  },
  {
   "cell_type": "code",
   "execution_count": 130,
   "metadata": {},
   "outputs": [],
   "source": [
    "finalIThink.to_csv(\"testingOnSmaller.csv\", index = False, float_format='%.0f')"
   ]
  },
  {
   "cell_type": "code",
   "execution_count": 131,
   "metadata": {},
   "outputs": [
    {
     "data": {
      "text/plain": [
       "48373"
      ]
     },
     "execution_count": 131,
     "metadata": {},
     "output_type": "execute_result"
    }
   ],
   "source": [
    "clinton = finalIThink[\"G16PREDCLI\"].sum()\n",
    "clinton"
   ]
  },
  {
   "cell_type": "code",
   "execution_count": 132,
   "metadata": {},
   "outputs": [
    {
     "data": {
      "text/plain": [
       "22522"
      ]
     },
     "execution_count": 132,
     "metadata": {},
     "output_type": "execute_result"
    }
   ],
   "source": [
    "trump = finalIThink[\"G16PRERTRU\"].sum()\n",
    "trump"
   ]
  },
  {
   "cell_type": "code",
   "execution_count": 133,
   "metadata": {},
   "outputs": [
    {
     "data": {
      "text/plain": [
       "70895"
      ]
     },
     "execution_count": 133,
     "metadata": {},
     "output_type": "execute_result"
    }
   ],
   "source": [
    "clinton + trump"
   ]
  },
  {
   "cell_type": "code",
   "execution_count": 134,
   "metadata": {},
   "outputs": [
    {
     "data": {
      "text/plain": [
       "17723"
      ]
     },
     "execution_count": 134,
     "metadata": {},
     "output_type": "execute_result"
    }
   ],
   "source": [
    "70895// 4"
   ]
  },
  {
   "cell_type": "code",
   "execution_count": null,
   "metadata": {},
   "outputs": [],
   "source": []
  }
 ],
 "metadata": {
  "kernelspec": {
   "display_name": "Python 3",
   "language": "python",
   "name": "python3"
  },
  "language_info": {
   "codemirror_mode": {
    "name": "ipython",
    "version": 3
   },
   "file_extension": ".py",
   "mimetype": "text/x-python",
   "name": "python",
   "nbconvert_exporter": "python",
   "pygments_lexer": "ipython3",
   "version": "3.7.4"
  }
 },
 "nbformat": 4,
 "nbformat_minor": 2
}
